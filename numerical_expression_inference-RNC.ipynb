{
 "cells": [
  {
   "cell_type": "markdown",
   "metadata": {},
   "source": [
    "# Numerical expression inference problem: the GEP-RNC algorithm\n",
    "In this example, we aim to identify a mathematicalfunction $f$ from the given input-ouput data such that the function $f$ can produce the expected ouput given a certain input. This is a typical [symbolic regression](https://en.wikipedia.org/wiki/Symbolic_regression) problem:\n",
    "\n",
    "> Symbolic regression is a type of regression analysis that searches the space of mathematical expressions to find the model that best fits a given dataset, both in terms of accuracy and simplicity.\n",
    "\n",
    "which is most commonly solved with genetic programming and its variant, gene expression programming (GEP), presented here. \n",
    "\n",
    "Before continuing this example, you'd better first go through the two fundamental tutorials listed below to get familiar with GEP and *geppy*:\n",
    "+ [Introduction to gene expression programming](https://geppy.readthedocs.io/en/latest/intro_GEP.html)\n",
    "+ [Overview of geppy for Gene Expression Programming (GEP)](https://geppy.readthedocs.io/en/latest/overview.html)\n",
    "\n",
    "The main difference of this problem w.r.t the [Boolean function identification](Boolean_function_identification.ipynb) problem is that generally a mathematical model involves constant coefficients, which is more challenging for both genetic programming (GP) and GEP. The standard way to handle numerical constants in GEP is to add another Dc domain in the genes dedicated to random numerical constant (RNC) evolution, i.e., the GEP-RNC algorithm. Please check Chapter 5 of *Ferreira, Cândida. Gene expression programming: mathematical modeling by an artificial intelligence. Vol. 21. Springer, 2006.* to learn more about the theory.\n",
    "\n",
    "Alternatively, if the involved numerical constants are just simple integers, then the traditional ephemeral numerical constant (ENC) method can also be used, though it is not recommended in GEP. See the example [ENC for numerical expression inference](./numerical_expression_inference-ENC.ipynb).\n",
    "\n",
    "To check the detailed documentation of each function/class in *geppy*, please refer to [library reference](https://geppy.readthedocs.io/en/latest/#library-reference)."
   ]
  },
  {
   "cell_type": "code",
   "execution_count": 1,
   "metadata": {},
   "outputs": [],
   "source": [
    "import geppy as gep\n",
    "from deap import creator, base, tools\n",
    "import numpy as np\n",
    "import random\n",
    "import operator\n",
    "import sympy as sp\n",
    "import math\n",
    "\n",
    "# for reproduction\n",
    "s = 0\n",
    "random.seed(s)\n",
    "np.random.seed(s)\n",
    "\n",
    "sym_map = {\n",
    "    operator.and_.__name__: sp.And,\n",
    "    operator.or_.__name__: sp.Or,\n",
    "    operator.not_.__name__: sp.Not,\n",
    "    operator.add.__name__: operator.add,\n",
    "    operator.sub.__name__: operator.sub,\n",
    "    operator.mul.__name__: operator.mul,\n",
    "    operator.neg.__name__: operator.neg,\n",
    "    operator.pow.__name__: operator.pow,\n",
    "    operator.abs.__name__: operator.abs,\n",
    "    operator.floordiv.__name__: operator.floordiv,\n",
    "    operator.truediv.__name__: operator.truediv,\n",
    "    'protected_div': operator.truediv,\n",
    "    'protected_pow': operator.pow,\n",
    "    math.log.__name__: sp.log,\n",
    "    math.sin.__name__: sp.sin,\n",
    "    math.cos.__name__: sp.cos,\n",
    "    math.tan.__name__: sp.tan\n",
    "}"
   ]
  },
  {
   "cell_type": "markdown",
   "metadata": {},
   "source": [
    "# Synthetic dataset\n",
    "\n",
    "For this simple task, we first choose a ground truth function $f$ to generate a dataset $D$. Then, 50 input-output exampels are generated randomly."
   ]
  },
  {
   "cell_type": "code",
   "execution_count": 2,
   "metadata": {},
   "outputs": [],
   "source": [
    "def f(x):\n",
    "    \"\"\"Ground truth function\"\"\"\n",
    "    return -2 * x ** 2 + 11 * x + 13"
   ]
  },
  {
   "cell_type": "code",
   "execution_count": 3,
   "metadata": {},
   "outputs": [],
   "source": [
    "n_cases = 100\n",
    "X = np.random.uniform(-10, 10, size=n_cases)   # random numbers in range [-10, 10)\n",
    "Y = f(X) + np.random.normal(size=n_cases) # Gaussian noise"
   ]
  },
  {
   "cell_type": "markdown",
   "metadata": {},
   "source": [
    "# Creating the primitives set\n",
    "The first step in GEP (or GP as well) is to specify the primitive set, which contains the elementary building blocks to formulate the model. For this problem, we have:\n",
    "+ function set: the standard arithmetic operators addition (+), subtraction (-), multiplication (*), and division (/).\n",
    "+ terminal set: only the single input 'x' and random numerical constants (RNC).\n",
    "\n",
    "NOTE:\n",
    "\n",
    "- We define a *protected division* to avoid dividing by zero.\n",
    "- Even there may be multiple RNCs in the model, we only need to call `PrimitiveSet.add_rnc` once."
   ]
  },
  {
   "cell_type": "code",
   "execution_count": 4,
   "metadata": {},
   "outputs": [],
   "source": [
    "def protected_pow(x1, x2):\n",
    "    result = np.power(float(abs(x1)),x2)\n",
    "    # try:\n",
    "    #     result = abs(x1)**x2\n",
    "    # except:\n",
    "    #     result = 2**20\n",
    "    # else:\n",
    "    #     result = abs(x1)**x2\n",
    "    return np.min([result, 2**30])\n",
    "\n",
    "def protected_div(x1, x2):\n",
    "    if abs(x2) < 1e-6:\n",
    "        return 1\n",
    "    return x1 / x2\n"
   ]
  },
  {
   "cell_type": "code",
   "execution_count": 5,
   "metadata": {},
   "outputs": [],
   "source": [
    "import operator \n",
    "\n",
    "pset = gep.PrimitiveSet('Main', input_names=['r','tri','dc','ep','ep2'])\n",
    "pset.add_function(operator.add, 2)\n",
    "pset.add_function(operator.sub, 2)\n",
    "pset.add_function(operator.mul, 2)\n",
    "pset.add_function(protected_div, 2)\n",
    "# pset.add_function(protected_pow, 2)\n",
    "pset.add_rnc_terminal()"
   ]
  },
  {
   "cell_type": "markdown",
   "metadata": {},
   "source": [
    "# Create the individual and population\n",
    "Our objective is to **minimize** the MSE (mean squared error) for data fitting.\n",
    "## Define the indiviudal class, a subclass of *gep.Chromosome*"
   ]
  },
  {
   "cell_type": "code",
   "execution_count": 6,
   "metadata": {},
   "outputs": [],
   "source": [
    "from deap import creator, base, tools\n",
    "\n",
    "creator.create(\"FitnessMin\", base.Fitness, weights=(-1,))  # to minimize the objective (fitness)\n",
    "creator.create(\"Individual\", gep.Chromosome, fitness=creator.FitnessMin)"
   ]
  },
  {
   "cell_type": "markdown",
   "metadata": {},
   "source": [
    "## Register the individual and population creation operations\n",
    "In DEAP, it is recommended to register the operations used in evolution into a *toolbox* to make full use of DEAP functionality. The configuration of individuals in this problem is:\n",
    "+ head length: 6\n",
    "+ number of genes in each chromosome: 2\n",
    "+ RNC array length: 8\n",
    "\n",
    "Generally, more complicated problems require a larger head length and longer chromosomes formed with more genes. **The most important is that we should use the `GeneDc` class for genes to make use of the GEP-RNC algorithm.**"
   ]
  },
  {
   "cell_type": "code",
   "execution_count": 7,
   "metadata": {},
   "outputs": [],
   "source": [
    "h = 8 # head length\n",
    "n_genes = 2   # number of genes in a chromosome\n",
    "r = 8   # length of the RNC array"
   ]
  },
  {
   "cell_type": "code",
   "execution_count": 8,
   "metadata": {},
   "outputs": [],
   "source": [
    "toolbox = gep.Toolbox()\n",
    "toolbox.register('rnc_gen', random.uniform, a=0, b=5)   # each RNC is random within [0, 5]\n",
    "toolbox.register('gene_gen', gep.GeneDc, pset=pset, head_length=h, rnc_gen=toolbox.rnc_gen, rnc_array_length=r)\n",
    "toolbox.register('individual', creator.Individual, gene_gen=toolbox.gene_gen, n_genes=n_genes, linker=operator.add)\n",
    "toolbox.register(\"population\", tools.initRepeat, list, toolbox.individual)\n",
    "\n",
    "# compile utility: which translates an individual into an executable function (Lambda)\n",
    "toolbox.register('compile', gep.compile_, pset=pset)"
   ]
  },
  {
   "cell_type": "code",
   "execution_count": 9,
   "metadata": {},
   "outputs": [],
   "source": [
    "toolbox.register('select', tools.selTournament, tournsize=3)\n",
    "# 1. general operators\n",
    "toolbox.register('mut_uniform', gep.mutate_uniform, pset=pset, ind_pb=0.05, pb=1)\n",
    "toolbox.register('mut_invert', gep.invert, pb=0.1)\n",
    "toolbox.register('mut_is_transpose', gep.is_transpose, pb=0.1)\n",
    "toolbox.register('mut_ris_transpose', gep.ris_transpose, pb=0.1)\n",
    "toolbox.register('mut_gene_transpose', gep.gene_transpose, pb=0.1)\n",
    "toolbox.register('cx_1p', gep.crossover_one_point, pb=0.3)\n",
    "toolbox.register('cx_2p', gep.crossover_two_point, pb=0.2)\n",
    "toolbox.register('cx_gene', gep.crossover_gene, pb=0.1)\n",
    "# 2. Dc-specific operators\n",
    "toolbox.register('mut_dc', gep.mutate_uniform_dc, ind_pb=0.05, pb=1)\n",
    "toolbox.register('mut_invert_dc', gep.invert_dc, pb=0.1)\n",
    "toolbox.register('mut_transpose_dc', gep.transpose_dc, pb=0.1)\n",
    "# for some uniform mutations, we can also assign the ind_pb a string to indicate our expected number of point mutations in an individual\n",
    "toolbox.register('mut_rnc_array_dc', gep.mutate_rnc_array_dc, rnc_gen=toolbox.rnc_gen, ind_pb='0.5p')\n",
    "toolbox.pbs['mut_rnc_array_dc'] = 1  # we can also give the probability via the pbs property"
   ]
  },
  {
   "cell_type": "code",
   "execution_count": 10,
   "metadata": {},
   "outputs": [],
   "source": [
    "stats = tools.Statistics(key=lambda ind: ind.fitness.values[0])\n",
    "stats.register(\"avg\", np.mean)\n",
    "stats.register(\"std\", np.std)\n",
    "stats.register(\"min\", np.min)\n",
    "stats.register(\"max\", np.max)"
   ]
  },
  {
   "cell_type": "markdown",
   "metadata": {},
   "source": [
    "# Define the fitness evaluation function\n",
    "In DEAP, the single objective optimization problem is just a special case of more general multiobjective ones. Since *geppy* is built on top of DEAP, it conforms to this convention. **Even if the fitness only contains one measure, keep in mind that DEAP stores it as an iterable.** \n",
    "\n",
    "Knowing that, you can understand why the evaluation function must return a tuple value (even if it is a 1-tuple). That's also why we set ``weights=(-1,)`` when creating the ``FitnessMax`` class."
   ]
  },
  {
   "cell_type": "code",
   "execution_count": 11,
   "metadata": {},
   "outputs": [],
   "source": [
    "import mpse\n",
    "iteration = 1000 #maximun time iteration\n",
    "evtime = 5\n",
    "# size of population and number of generations\n",
    "n_pop = 200\n",
    "n_gen = 300\n",
    "\n",
    "previous_gen = -1\n",
    "case_list = [None for _ in range(evtime)]\n",
    "\n",
    "def evaluate(individual, gen):\n",
    "    \"\"\"Evalute the fitness of an individual: MAE (mean absolute error)\"\"\"\n",
    "    global previous_gen, case_list\n",
    "    func = toolbox.compile(individual)\n",
    "    func_vec = np.vectorize(func)\n",
    "    itsum = 0\n",
    "    for i in range(evtime):\n",
    "        if gen != previous_gen:\n",
    "            # case_list[i] = mpse.gen_case(1)\n",
    "            case_list[i] = mpse.gen_case(gen/n_gen)\n",
    "            # print('new gen')\n",
    "        it, danger_num = mpse.get_reward(case_list[i],iteration,func_vec)\n",
    "        if danger_num == 1:\n",
    "            it = it + iteration * 2\n",
    "        if danger_num == 2:\n",
    "            it = it + iteration * 1\n",
    "        itsum = itsum + it\n",
    "    previous_gen = gen\n",
    "    # print(itsum)\n",
    "    return itsum/evtime,"
   ]
  },
  {
   "cell_type": "code",
   "execution_count": 12,
   "metadata": {},
   "outputs": [],
   "source": [
    "toolbox.register('evaluate', evaluate)"
   ]
  },
  {
   "cell_type": "code",
   "execution_count": 13,
   "metadata": {
    "tags": []
   },
   "outputs": [],
   "source": [
    "pop = toolbox.population(n=n_pop)\n",
    "hof = tools.HallOfFame(10)   # only record the best three individuals ever found in all generations\n",
    "\n",
    "# start evolution\n",
    "pop, log = gep.gep_simple(pop, toolbox, n_generations=n_gen, n_elites=1,\n",
    "                          stats=stats, hall_of_fame=hof, verbose=True)"
   ]
  },
  {
   "cell_type": "markdown",
   "metadata": {},
   "source": [
    "**Let's check the best individuals ever evolved.**"
   ]
  },
  {
   "cell_type": "code",
   "execution_count": 14,
   "metadata": {},
   "outputs": [
    {
     "output_type": "stream",
     "name": "stdout",
     "text": [
      "add(\n\tadd(3.915592549233082, ep2),\n\tdc\n)\n"
     ]
    }
   ],
   "source": [
    "print(hof[0])"
   ]
  },
  {
   "cell_type": "code",
   "execution_count": 15,
   "metadata": {},
   "outputs": [
    {
     "output_type": "stream",
     "name": "stdout",
     "text": [
      "Symplified best individual: \n",
      "dc + ep2 + 3.91559254923308\n",
      "ep2 + 6.09593578899936\n",
      "ep + r\n",
      "ep + r\n",
      "dc + r\n"
     ]
    }
   ],
   "source": [
    "print('Symplified best individual: ')\n",
    "# best_ind = hof[0]\n",
    "for i in range(len(hof)):\n",
    "    symplified_best = gep.simplify(hof[i], sym_map)\n",
    "    print(symplified_best)"
   ]
  },
  {
   "cell_type": "markdown",
   "metadata": {},
   "source": [
    "# *[optional]* Post-processing: simplification and visualization\n",
    "## Symbolic simplification of the final solution\n",
    "The original solution seems a little complicated, which may contain many redundancies, for example, `protected_div(x, x)` is just 1. We can perform symbolic simplification of the final result by `geppy.simplify` which depends on `sympy` package."
   ]
  },
  {
   "cell_type": "markdown",
   "metadata": {},
   "source": [
    "As we can see from the above simplified expression, the *truth model* has been successfully found. Due to the existence of Gaussian noise, the minimum mean absolute error （MAE) is still not zero even the best individual represents the true model."
   ]
  },
  {
   "cell_type": "markdown",
   "metadata": {},
   "source": [
    "## Visualization\n",
    "If you are interested in the expression tree corresponding to the individual, i.e., the genotype/phenotype system, *geppy* supports tree visualization by the `graph` and the `export_expression_tree` functions:\n",
    "\n",
    "- `graph` only outputs the nodes and links information to describe the tree topology, with which you can render the tree with tools you like;\n",
    "- `export_expression_tree` implements tree visualization with data generated by `graph` internally using the `graphviz` package. "
   ]
  },
  {
   "cell_type": "code",
   "execution_count": 16,
   "metadata": {},
   "outputs": [],
   "source": [
    "#  # we want use symbol labels instead of words in the tree graph\n",
    "# rename_labels = {'add': '+', 'sub': '-', 'mul': '*', 'protected_div': '/'}  \n",
    "# gep.export_expression_tree(best_ind, rename_labels, 'data/numerical_expression_tree.png')"
   ]
  },
  {
   "cell_type": "code",
   "execution_count": 17,
   "metadata": {},
   "outputs": [],
   "source": [
    "# # show the above image here for convenience\n",
    "# from IPython.display import Image\n",
    "# Image(filename='data/numerical_expression_tree.png') "
   ]
  },
  {
   "cell_type": "markdown",
   "metadata": {},
   "source": [
    "# Discussion\n",
    "If only integer constants are involved, then the GEP-RNC algorithm is very effective. If the constants are general real numbers, then more advanced techniques like local search may be more suitable.\n",
    "\n",
    "Alternatively, the ephemeral numerical constant (ENC) based method can also be adopted here. Please check [ENC for numerical expression inference](./numerical_expression_inference-ENC.ipynb).\n"
   ]
  }
 ],
 "metadata": {
  "kernelspec": {
   "name": "python3",
   "display_name": "Python 3.8.3 64-bit ('base': conda)",
   "metadata": {
    "interpreter": {
     "hash": "5110be81f097a33e51a63f2d799b4ae23e1ad3b8a3fd16682dfe1d86f378e7c1"
    }
   }
  },
  "language_info": {
   "codemirror_mode": {
    "name": "ipython",
    "version": 3
   },
   "file_extension": ".py",
   "mimetype": "text/x-python",
   "name": "python",
   "nbconvert_exporter": "python",
   "pygments_lexer": "ipython3",
   "version": "3.8.3-final"
  }
 },
 "nbformat": 4,
 "nbformat_minor": 2
}