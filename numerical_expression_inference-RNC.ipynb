{
 "cells": [
  {
   "cell_type": "markdown",
   "metadata": {},
   "source": [
    "# Numerical expression inference problem: the GEP-RNC algorithm\n",
    "In this example, we aim to identify a mathematicalfunction $f$ from the given input-ouput data such that the function $f$ can produce the expected ouput given a certain input. This is a typical [symbolic regression](https://en.wikipedia.org/wiki/Symbolic_regression) problem:\n",
    "\n",
    "> Symbolic regression is a type of regression analysis that searches the space of mathematical expressions to find the model that best fits a given dataset, both in terms of accuracy and simplicity.\n",
    "\n",
    "which is most commonly solved with genetic programming and its variant, gene expression programming (GEP), presented here. \n",
    "\n",
    "Before continuing this example, you'd better first go through the two fundamental tutorials listed below to get familiar with GEP and *geppy*:\n",
    "+ [Introduction to gene expression programming](https://geppy.readthedocs.io/en/latest/intro_GEP.html)\n",
    "+ [Overview of geppy for Gene Expression Programming (GEP)](https://geppy.readthedocs.io/en/latest/overview.html)\n",
    "\n",
    "The main difference of this problem w.r.t the [Boolean function identification](Boolean_function_identification.ipynb) problem is that generally a mathematical model involves constant coefficients, which is more challenging for both genetic programming (GP) and GEP. The standard way to handle numerical constants in GEP is to add another Dc domain in the genes dedicated to random numerical constant (RNC) evolution, i.e., the GEP-RNC algorithm. Please check Chapter 5 of *Ferreira, Cândida. Gene expression programming: mathematical modeling by an artificial intelligence. Vol. 21. Springer, 2006.* to learn more about the theory.\n",
    "\n",
    "Alternatively, if the involved numerical constants are just simple integers, then the traditional ephemeral numerical constant (ENC) method can also be used, though it is not recommended in GEP. See the example [ENC for numerical expression inference](./numerical_expression_inference-ENC.ipynb).\n",
    "\n",
    "To check the detailed documentation of each function/class in *geppy*, please refer to [library reference](https://geppy.readthedocs.io/en/latest/#library-reference)."
   ]
  },
  {
   "cell_type": "code",
   "execution_count": 1,
   "metadata": {},
   "outputs": [],
   "source": [
    "import geppy as gep\n",
    "from deap import creator, base, tools\n",
    "import numpy as np\n",
    "import random\n",
    "import operator\n",
    "import sympy as sp\n",
    "import math\n",
    "\n",
    "# for reproduction\n",
    "s = 0\n",
    "random.seed(s)\n",
    "np.random.seed(s)\n",
    "\n",
    "sym_map = {\n",
    "    operator.and_.__name__: sp.And,\n",
    "    operator.or_.__name__: sp.Or,\n",
    "    operator.not_.__name__: sp.Not,\n",
    "    operator.add.__name__: operator.add,\n",
    "    operator.sub.__name__: operator.sub,\n",
    "    operator.mul.__name__: operator.mul,\n",
    "    operator.neg.__name__: operator.neg,\n",
    "    operator.pow.__name__: operator.pow,\n",
    "    operator.abs.__name__: operator.abs,\n",
    "    operator.floordiv.__name__: operator.floordiv,\n",
    "    operator.truediv.__name__: operator.truediv,\n",
    "    'protected_div': operator.truediv,\n",
    "    'protected_pow': operator.pow,\n",
    "    math.log.__name__: sp.log,\n",
    "    math.sin.__name__: sp.sin,\n",
    "    math.cos.__name__: sp.cos,\n",
    "    math.tan.__name__: sp.tan\n",
    "}"
   ]
  },
  {
   "cell_type": "markdown",
   "metadata": {},
   "source": [
    "# Synthetic dataset\n",
    "\n",
    "For this simple task, we first choose a ground truth function $f$ to generate a dataset $D$. Then, 50 input-output exampels are generated randomly."
   ]
  },
  {
   "cell_type": "code",
   "execution_count": 2,
   "metadata": {},
   "outputs": [],
   "source": [
    "def f(x):\n",
    "    \"\"\"Ground truth function\"\"\"\n",
    "    return -2 * x ** 2 + 11 * x + 13"
   ]
  },
  {
   "cell_type": "code",
   "execution_count": 3,
   "metadata": {},
   "outputs": [],
   "source": [
    "n_cases = 100\n",
    "X = np.random.uniform(-10, 10, size=n_cases)   # random numbers in range [-10, 10)\n",
    "Y = f(X) + np.random.normal(size=n_cases) # Gaussian noise"
   ]
  },
  {
   "cell_type": "markdown",
   "metadata": {},
   "source": [
    "# Creating the primitives set\n",
    "The first step in GEP (or GP as well) is to specify the primitive set, which contains the elementary building blocks to formulate the model. For this problem, we have:\n",
    "+ function set: the standard arithmetic operators addition (+), subtraction (-), multiplication (*), and division (/).\n",
    "+ terminal set: only the single input 'x' and random numerical constants (RNC).\n",
    "\n",
    "NOTE:\n",
    "\n",
    "- We define a *protected division* to avoid dividing by zero.\n",
    "- Even there may be multiple RNCs in the model, we only need to call `PrimitiveSet.add_rnc` once."
   ]
  },
  {
   "cell_type": "code",
   "execution_count": 4,
   "metadata": {},
   "outputs": [],
   "source": [
    "def protected_pow(x1, x2):\n",
    "    result = np.power(float(abs(x1)),x2)\n",
    "    # try:\n",
    "    #     result = abs(x1)**x2\n",
    "    # except:\n",
    "    #     result = 2**20\n",
    "    # else:\n",
    "    #     result = abs(x1)**x2\n",
    "    return np.min([result, 2**30])\n",
    "\n",
    "def protected_div(x1, x2):\n",
    "    if abs(x2) < 1e-6:\n",
    "        return 1\n",
    "    return x1 / x2\n"
   ]
  },
  {
   "cell_type": "code",
   "execution_count": 5,
   "metadata": {},
   "outputs": [],
   "source": [
    "import operator \n",
    "\n",
    "pset = gep.PrimitiveSet('Main', input_names=['r','tri','dc','ep','ep2','vpm'])\n",
    "pset.add_function(operator.add, 2)\n",
    "pset.add_function(operator.sub, 2)\n",
    "pset.add_function(operator.mul, 2)\n",
    "pset.add_function(protected_div, 2)\n",
    "# pset.add_function(protected_pow, 2)\n",
    "pset.add_rnc_terminal()"
   ]
  },
  {
   "cell_type": "markdown",
   "metadata": {},
   "source": [
    "# Create the individual and population\n",
    "Our objective is to **minimize** the MSE (mean squared error) for data fitting.\n",
    "## Define the indiviudal class, a subclass of *gep.Chromosome*"
   ]
  },
  {
   "cell_type": "code",
   "execution_count": 6,
   "metadata": {},
   "outputs": [],
   "source": [
    "from deap import creator, base, tools\n",
    "\n",
    "creator.create(\"FitnessMin\", base.Fitness, weights=(-1,))  # to minimize the objective (fitness)\n",
    "creator.create(\"Individual\", gep.Chromosome, fitness=creator.FitnessMin)"
   ]
  },
  {
   "cell_type": "markdown",
   "metadata": {},
   "source": [
    "## Register the individual and population creation operations\n",
    "In DEAP, it is recommended to register the operations used in evolution into a *toolbox* to make full use of DEAP functionality. The configuration of individuals in this problem is:\n",
    "+ head length: 6\n",
    "+ number of genes in each chromosome: 2\n",
    "+ RNC array length: 8\n",
    "\n",
    "Generally, more complicated problems require a larger head length and longer chromosomes formed with more genes. **The most important is that we should use the `GeneDc` class for genes to make use of the GEP-RNC algorithm.**"
   ]
  },
  {
   "cell_type": "code",
   "execution_count": 7,
   "metadata": {},
   "outputs": [],
   "source": [
    "h = 8 # head length\n",
    "n_genes = 2   # number of genes in a chromosome\n",
    "r = 8   # length of the RNC array"
   ]
  },
  {
   "cell_type": "code",
   "execution_count": 8,
   "metadata": {},
   "outputs": [],
   "source": [
    "toolbox = gep.Toolbox()\n",
    "toolbox.register('rnc_gen', random.uniform, a=0, b=5)   # each RNC is random within [0, 5]\n",
    "toolbox.register('gene_gen', gep.GeneDc, pset=pset, head_length=h, rnc_gen=toolbox.rnc_gen, rnc_array_length=r)\n",
    "toolbox.register('individual', creator.Individual, gene_gen=toolbox.gene_gen, n_genes=n_genes, linker=operator.add)\n",
    "toolbox.register(\"population\", tools.initRepeat, list, toolbox.individual)\n",
    "\n",
    "# compile utility: which translates an individual into an executable function (Lambda)\n",
    "toolbox.register('compile', gep.compile_, pset=pset)"
   ]
  },
  {
   "cell_type": "code",
   "execution_count": 9,
   "metadata": {},
   "outputs": [],
   "source": [
    "toolbox.register('select', tools.selTournament, tournsize=3)\n",
    "# 1. general operators\n",
    "toolbox.register('mut_uniform', gep.mutate_uniform, pset=pset, ind_pb=0.05, pb=1)\n",
    "toolbox.register('mut_invert', gep.invert, pb=0.1)\n",
    "toolbox.register('mut_is_transpose', gep.is_transpose, pb=0.1)\n",
    "toolbox.register('mut_ris_transpose', gep.ris_transpose, pb=0.1)\n",
    "toolbox.register('mut_gene_transpose', gep.gene_transpose, pb=0.1)\n",
    "toolbox.register('cx_1p', gep.crossover_one_point, pb=0.3)\n",
    "toolbox.register('cx_2p', gep.crossover_two_point, pb=0.2)\n",
    "toolbox.register('cx_gene', gep.crossover_gene, pb=0.1)\n",
    "# 2. Dc-specific operators\n",
    "toolbox.register('mut_dc', gep.mutate_uniform_dc, ind_pb=0.05, pb=1)\n",
    "toolbox.register('mut_invert_dc', gep.invert_dc, pb=0.1)\n",
    "toolbox.register('mut_transpose_dc', gep.transpose_dc, pb=0.1)\n",
    "# for some uniform mutations, we can also assign the ind_pb a string to indicate our expected number of point mutations in an individual\n",
    "toolbox.register('mut_rnc_array_dc', gep.mutate_rnc_array_dc, rnc_gen=toolbox.rnc_gen, ind_pb='0.5p')\n",
    "toolbox.pbs['mut_rnc_array_dc'] = 1  # we can also give the probability via the pbs property"
   ]
  },
  {
   "cell_type": "code",
   "execution_count": 10,
   "metadata": {},
   "outputs": [],
   "source": [
    "stats = tools.Statistics(key=lambda ind: ind.fitness.values[0])\n",
    "stats.register(\"avg\", np.mean)\n",
    "stats.register(\"std\", np.std)\n",
    "stats.register(\"min\", np.min)\n",
    "stats.register(\"max\", np.max)"
   ]
  },
  {
   "cell_type": "markdown",
   "metadata": {},
   "source": [
    "# Define the fitness evaluation function\n",
    "In DEAP, the single objective optimization problem is just a special case of more general multiobjective ones. Since *geppy* is built on top of DEAP, it conforms to this convention. **Even if the fitness only contains one measure, keep in mind that DEAP stores it as an iterable.** \n",
    "\n",
    "Knowing that, you can understand why the evaluation function must return a tuple value (even if it is a 1-tuple). That's also why we set ``weights=(-1,)`` when creating the ``FitnessMax`` class."
   ]
  },
  {
   "cell_type": "code",
   "execution_count": 11,
   "metadata": {},
   "outputs": [],
   "source": [
    "import mpse\n",
    "iteration = 1000 #maximun time iteration\n",
    "evtime = 3\n",
    "# size of population and number of generations\n",
    "n_pop = 100\n",
    "n_gen = 80\n",
    "\n",
    "previous_gen = -1\n",
    "case_list = [None for _ in range(evtime)]\n",
    "\n",
    "def evaluate(individual, gen):\n",
    "    \"\"\"Evalute the fitness of an individual: MAE (mean absolute error)\"\"\"\n",
    "    global previous_gen, case_list\n",
    "    func = toolbox.compile(individual)\n",
    "    func_vec = np.vectorize(func)\n",
    "    itsum = 0\n",
    "    for i in range(evtime):\n",
    "        if gen != previous_gen:\n",
    "            case_list[i] = mpse.gen_case(0.5)\n",
    "            # case_list[i] = mpse.gen_case(gen/n_gen*0.8)\n",
    "            # print('new gen')\n",
    "        it = mpse.get_reward(case_list[i],iteration,func_vec)\n",
    "        itsum = itsum + it\n",
    "    previous_gen = gen\n",
    "    # print(itsum)\n",
    "    return itsum/evtime,"
   ]
  },
  {
   "cell_type": "code",
   "execution_count": 12,
   "metadata": {},
   "outputs": [],
   "source": [
    "toolbox.register('evaluate', evaluate)"
   ]
  },
  {
   "cell_type": "code",
   "execution_count": 13,
   "metadata": {
    "tags": []
   },
   "outputs": [
    {
     "output_type": "stream",
     "name": "stdout",
     "text": [
      "gen\tnevals\tavg    \tstd   \tmin \tmax    \n",
      "0  \t100   \t3827.64\t137.18\t3248\t3929.67\n",
      "1  \t100   \t3749.66\t181.91\t3100\t3918   \n",
      "2  \t100   \t3872.97\t74.4561\t3461.67\t3909.33\n",
      "3  \t100   \t3890.98\t55.1871\t3471   \t3923.67\n",
      "4  \t100   \t3773.21\t151.994\t3438   \t3922.33\n",
      "5  \t100   \t3823.21\t174.494\t3060.33\t3926   \n",
      "6  \t100   \t3759.99\t169.786\t3110.33\t3917.67\n",
      "7  \t100   \t3852.34\t121.447\t3234.67\t3913.33\n",
      "8  \t100   \t3831.58\t138.131\t2652.33\t3917.33\n",
      "9  \t100   \t3732.2 \t224.258\t3104.33\t3915.33\n",
      "10 \t100   \t3760.84\t200.862\t3103   \t3929.33\n",
      "11 \t100   \t3732.61\t216.337\t2675.67\t3922   \n",
      "12 \t100   \t3823.53\t79.3543\t3450.67\t3910.33\n",
      "13 \t100   \t3807.43\t107.747\t3431   \t3919.67\n",
      "14 \t100   \t3789.05\t154.046\t3101   \t3913   \n",
      "15 \t100   \t3802.1 \t111.45 \t3436.33\t3915.67\n",
      "16 \t100   \t3724.76\t173.18 \t3092   \t3913.33\n",
      "17 \t100   \t3673.23\t207.75 \t3072   \t3916.67\n",
      "18 \t100   \t3780.72\t123.626\t3199.67\t3920   \n",
      "19 \t100   \t3676.64\t197.373\t3122.67\t3917   \n",
      "20 \t100   \t3818.88\t71.1792\t3464.33\t3916.67\n",
      "21 \t100   \t3785.08\t109.205\t3432.33\t3909   \n",
      "22 \t100   \t3774.82\t89.7915\t3420.33\t3900   \n",
      "23 \t100   \t3789.3 \t101.927\t3438   \t3909.33\n",
      "24 \t100   \t3789.69\t122.145\t3147   \t3920.67\n",
      "25 \t100   \t3718.44\t182.486\t3445   \t3915.33\n",
      "26 \t100   \t3616.94\t280.018\t3094.33\t3917.33\n",
      "27 \t100   \t3782.74\t147.71 \t3121.67\t3926   \n",
      "28 \t100   \t3704.94\t292.595\t2751   \t3913   \n",
      "29 \t100   \t3783.22\t146.835\t3447.67\t3921   \n",
      "30 \t100   \t3614.18\t274.139\t3107.33\t3913.33\n",
      "31 \t100   \t3820.53\t111.512\t3469   \t3932.33\n",
      "32 \t100   \t3769.89\t162.372\t3135   \t3925.67\n",
      "33 \t100   \t3733.03\t184.467\t3454.67\t3913.33\n",
      "34 \t100   \t3668.3 \t224.176\t3107.33\t3921.33\n",
      "35 \t100   \t3800.27\t125.14 \t3471   \t3914.67\n",
      "36 \t100   \t3682.38\t238.987\t3086   \t3920.33\n",
      "37 \t100   \t3769.67\t148.238\t3446.67\t3933.67\n",
      "38 \t100   \t3684.32\t227.622\t3124.33\t3929   \n",
      "39 \t100   \t3750.94\t154.807\t3111   \t3921   \n",
      "40 \t100   \t3758.61\t169.936\t3116.67\t3911.33\n",
      "41 \t100   \t3768.82\t200.53 \t2648.67\t3892   \n",
      "42 \t100   \t3774.16\t158.785\t3449.33\t3911.33\n",
      "43 \t100   \t3833.22\t104.293\t3185   \t3929.33\n",
      "44 \t100   \t3808.1 \t152.103\t3476.33\t3931.33\n",
      "45 \t100   \t3748.99\t198.88 \t3075.67\t3925   \n",
      "46 \t100   \t3796.94\t125.195\t3435.33\t3902.67\n",
      "47 \t100   \t3662.86\t215.821\t3123.33\t3914   \n",
      "48 \t100   \t3567.31\t267.107\t2776   \t3923.67\n",
      "49 \t100   \t3643.6 \t236.179\t3092   \t3918.67\n",
      "50 \t100   \t3668.67\t189.45 \t3099.33\t3912.67\n",
      "51 \t100   \t3655.2 \t226.097\t3107.33\t3914   \n",
      "52 \t100   \t3723.14\t199.827\t3133.67\t3917.67\n",
      "53 \t100   \t3787.86\t99.4874\t3432.67\t3912.33\n",
      "54 \t100   \t3582.62\t299.879\t2669.33\t3916.33\n",
      "55 \t100   \t3711.97\t175.737\t3071   \t3901.67\n",
      "56 \t100   \t3734.66\t246.644\t2763.33\t3926.33\n",
      "57 \t100   \t3761.59\t155.015\t3107   \t3904.67\n",
      "58 \t100   \t3778.5 \t147.756\t3101.67\t3921   \n",
      "59 \t100   \t3742.84\t151.652\t3378   \t3916   \n",
      "60 \t100   \t3696.8 \t197.433\t3124.33\t3907.33\n",
      "61 \t100   \t3812.61\t96.0394\t3445.67\t3914.67\n",
      "62 \t100   \t3607.24\t262.733\t3110.67\t3927   \n",
      "63 \t100   \t3813.49\t75.9559\t3440.67\t3915.67\n",
      "64 \t100   \t3786.12\t111.502\t3452   \t3900   \n",
      "65 \t100   \t3771.75\t114.518\t3432   \t3912.33\n",
      "66 \t100   \t3607.26\t264.657\t3080   \t3928   \n",
      "67 \t100   \t3749.84\t164.73 \t3403.67\t3929   \n",
      "68 \t100   \t3782.22\t154.96 \t3002   \t3923.67\n",
      "69 \t100   \t3550.76\t272.662\t2696   \t3921.67\n",
      "70 \t100   \t3795.54\t114.464\t3371.67\t3921.33\n",
      "71 \t100   \t3798.31\t112.726\t3404   \t3929.67\n",
      "72 \t100   \t3710.78\t217.476\t3113.33\t3908   \n",
      "73 \t100   \t3831.64\t113.462\t3100.67\t3921.67\n",
      "74 \t100   \t3764.67\t172.928\t3130   \t3922.33\n",
      "75 \t100   \t3701.19\t219.835\t3048.33\t3925.33\n",
      "76 \t100   \t3758.25\t246.747\t2787.67\t3919.67\n",
      "77 \t100   \t3627.66\t258.468\t2652.67\t3916   \n",
      "78 \t100   \t3618.92\t323.023\t2758.33\t3919   \n",
      "79 \t100   \t3562.18\t366.616\t2363.33\t3906.33\n",
      "80 \t100   \t3696.58\t273.439\t2753.67\t3924.67\n"
     ]
    }
   ],
   "source": [
    "pop = toolbox.population(n=n_pop)\n",
    "hof = tools.HallOfFame(10)   # only record the best three individuals ever found in all generations\n",
    "\n",
    "# start evolution\n",
    "pop, log = gep.gep_simple(pop, toolbox, n_generations=n_gen, n_elites=1,\n",
    "                          stats=stats, hall_of_fame=hof, verbose=True)"
   ]
  },
  {
   "cell_type": "markdown",
   "metadata": {},
   "source": [
    "**Let's check the best individuals ever evolved.**"
   ]
  },
  {
   "cell_type": "code",
   "execution_count": 14,
   "metadata": {},
   "outputs": [
    {
     "output_type": "stream",
     "name": "stdout",
     "text": [
      "add(\n\tprotected_div(mul(protected_div(tri, r), mul(dc, vpm)), mul(ep2, dc)),\n\tprotected_div(tri, ep)\n)\n"
     ]
    }
   ],
   "source": [
    "print(hof[0])"
   ]
  },
  {
   "cell_type": "code",
   "execution_count": 15,
   "metadata": {},
   "outputs": [
    {
     "output_type": "stream",
     "name": "stdout",
     "text": [
      "Symplified best individual: \n",
      "tri*vpm/(ep2*r) + tri/ep\n",
      "dc**2*tri/(ep2*r) + tri/ep\n",
      "tri*(dc + r - tri - vpm + 4.81426540705305)\n",
      "(ep**2 - ep2**2*tri*(3.64148590107594*dc*vpm - dc - ep2 + tri))/ep2**2\n",
      "tri - 4.60075751819611 + tri*vpm/(ep2*r)\n",
      "ep + r*tri**2\n",
      "-dc + r*tri*(-r + tri + 1) + tri*(dc*r + 1)\n",
      "ep + tri*vpm/(ep2*r)\n",
      "r*tri*(dc + vpm + 1)\n",
      "tri*(r + tri + 1)\n"
     ]
    }
   ],
   "source": [
    "print('Symplified best individual: ')\n",
    "# best_ind = hof[0]\n",
    "for i in range(len(hof)):\n",
    "    symplified_best = gep.simplify(hof[i], sym_map)\n",
    "    print(symplified_best)"
   ]
  },
  {
   "cell_type": "markdown",
   "metadata": {},
   "source": [
    "# *[optional]* Post-processing: simplification and visualization\n",
    "## Symbolic simplification of the final solution\n",
    "The original solution seems a little complicated, which may contain many redundancies, for example, `protected_div(x, x)` is just 1. We can perform symbolic simplification of the final result by `geppy.simplify` which depends on `sympy` package."
   ]
  },
  {
   "cell_type": "markdown",
   "metadata": {},
   "source": [
    "As we can see from the above simplified expression, the *truth model* has been successfully found. Due to the existence of Gaussian noise, the minimum mean absolute error （MAE) is still not zero even the best individual represents the true model."
   ]
  },
  {
   "cell_type": "markdown",
   "metadata": {},
   "source": [
    "## Visualization\n",
    "If you are interested in the expression tree corresponding to the individual, i.e., the genotype/phenotype system, *geppy* supports tree visualization by the `graph` and the `export_expression_tree` functions:\n",
    "\n",
    "- `graph` only outputs the nodes and links information to describe the tree topology, with which you can render the tree with tools you like;\n",
    "- `export_expression_tree` implements tree visualization with data generated by `graph` internally using the `graphviz` package. "
   ]
  },
  {
   "cell_type": "code",
   "execution_count": 16,
   "metadata": {},
   "outputs": [],
   "source": [
    "#  # we want use symbol labels instead of words in the tree graph\n",
    "# rename_labels = {'add': '+', 'sub': '-', 'mul': '*', 'protected_div': '/'}  \n",
    "# gep.export_expression_tree(best_ind, rename_labels, 'data/numerical_expression_tree.png')"
   ]
  },
  {
   "cell_type": "code",
   "execution_count": 17,
   "metadata": {},
   "outputs": [],
   "source": [
    "# # show the above image here for convenience\n",
    "# from IPython.display import Image\n",
    "# Image(filename='data/numerical_expression_tree.png') "
   ]
  },
  {
   "cell_type": "markdown",
   "metadata": {},
   "source": [
    "# Discussion\n",
    "If only integer constants are involved, then the GEP-RNC algorithm is very effective. If the constants are general real numbers, then more advanced techniques like local search may be more suitable.\n",
    "\n",
    "Alternatively, the ephemeral numerical constant (ENC) based method can also be adopted here. Please check [ENC for numerical expression inference](./numerical_expression_inference-ENC.ipynb).\n"
   ]
  }
 ],
 "metadata": {
  "kernelspec": {
   "name": "python3",
   "display_name": "Python 3.8.3 64-bit ('base': conda)",
   "metadata": {
    "interpreter": {
     "hash": "5110be81f097a33e51a63f2d799b4ae23e1ad3b8a3fd16682dfe1d86f378e7c1"
    }
   }
  },
  "language_info": {
   "codemirror_mode": {
    "name": "ipython",
    "version": 3
   },
   "file_extension": ".py",
   "mimetype": "text/x-python",
   "name": "python",
   "nbconvert_exporter": "python",
   "pygments_lexer": "ipython3",
   "version": "3.8.3-final"
  }
 },
 "nbformat": 4,
 "nbformat_minor": 2
}