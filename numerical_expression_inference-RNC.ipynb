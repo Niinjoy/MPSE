{
 "cells": [
  {
   "cell_type": "markdown",
   "metadata": {},
   "source": [
    "# Numerical expression inference problem: the GEP-RNC algorithm\n",
    "In this example, we aim to identify a mathematicalfunction $f$ from the given input-ouput data such that the function $f$ can produce the expected ouput given a certain input. This is a typical [symbolic regression](https://en.wikipedia.org/wiki/Symbolic_regression) problem:\n",
    "\n",
    "> Symbolic regression is a type of regression analysis that searches the space of mathematical expressions to find the model that best fits a given dataset, both in terms of accuracy and simplicity.\n",
    "\n",
    "which is most commonly solved with genetic programming and its variant, gene expression programming (GEP), presented here. \n",
    "\n",
    "Before continuing this example, you'd better first go through the two fundamental tutorials listed below to get familiar with GEP and *geppy*:\n",
    "+ [Introduction to gene expression programming](https://geppy.readthedocs.io/en/latest/intro_GEP.html)\n",
    "+ [Overview of geppy for Gene Expression Programming (GEP)](https://geppy.readthedocs.io/en/latest/overview.html)\n",
    "\n",
    "The main difference of this problem w.r.t the [Boolean function identification](Boolean_function_identification.ipynb) problem is that generally a mathematical model involves constant coefficients, which is more challenging for both genetic programming (GP) and GEP. The standard way to handle numerical constants in GEP is to add another Dc domain in the genes dedicated to random numerical constant (RNC) evolution, i.e., the GEP-RNC algorithm. Please check Chapter 5 of *Ferreira, Cândida. Gene expression programming: mathematical modeling by an artificial intelligence. Vol. 21. Springer, 2006.* to learn more about the theory.\n",
    "\n",
    "Alternatively, if the involved numerical constants are just simple integers, then the traditional ephemeral numerical constant (ENC) method can also be used, though it is not recommended in GEP. See the example [ENC for numerical expression inference](./numerical_expression_inference-ENC.ipynb).\n",
    "\n",
    "To check the detailed documentation of each function/class in *geppy*, please refer to [library reference](https://geppy.readthedocs.io/en/latest/#library-reference)."
   ]
  },
  {
   "cell_type": "code",
   "execution_count": 1,
   "metadata": {},
   "outputs": [],
   "source": [
    "import geppy as gep\n",
    "from deap import creator, base, tools\n",
    "import numpy as np\n",
    "import random\n",
    "import operator\n",
    "import sympy as sp\n",
    "import math\n",
    "\n",
    "# for reproduction\n",
    "s = 0\n",
    "random.seed(s)\n",
    "np.random.seed(s)\n",
    "\n",
    "sym_map = {\n",
    "    operator.and_.__name__: sp.And,\n",
    "    operator.or_.__name__: sp.Or,\n",
    "    operator.not_.__name__: sp.Not,\n",
    "    operator.add.__name__: operator.add,\n",
    "    operator.sub.__name__: operator.sub,\n",
    "    operator.mul.__name__: operator.mul,\n",
    "    operator.neg.__name__: operator.neg,\n",
    "    operator.pow.__name__: operator.pow,\n",
    "    operator.abs.__name__: operator.abs,\n",
    "    operator.floordiv.__name__: operator.floordiv,\n",
    "    operator.truediv.__name__: operator.truediv,\n",
    "    'protected_div': operator.truediv,\n",
    "    'protected_pow': operator.pow,\n",
    "    math.log.__name__: sp.log,\n",
    "    math.sin.__name__: sp.sin,\n",
    "    math.cos.__name__: sp.cos,\n",
    "    math.tan.__name__: sp.tan\n",
    "}"
   ]
  },
  {
   "cell_type": "markdown",
   "metadata": {},
   "source": [
    "# Synthetic dataset\n",
    "\n",
    "For this simple task, we first choose a ground truth function $f$ to generate a dataset $D$. Then, 50 input-output exampels are generated randomly."
   ]
  },
  {
   "cell_type": "code",
   "execution_count": 2,
   "metadata": {},
   "outputs": [],
   "source": [
    "def f(x):\n",
    "    \"\"\"Ground truth function\"\"\"\n",
    "    return -2 * x ** 2 + 11 * x + 13"
   ]
  },
  {
   "cell_type": "code",
   "execution_count": 3,
   "metadata": {},
   "outputs": [],
   "source": [
    "n_cases = 100\n",
    "X = np.random.uniform(-10, 10, size=n_cases)   # random numbers in range [-10, 10)\n",
    "Y = f(X) + np.random.normal(size=n_cases) # Gaussian noise"
   ]
  },
  {
   "cell_type": "markdown",
   "metadata": {},
   "source": [
    "# Creating the primitives set\n",
    "The first step in GEP (or GP as well) is to specify the primitive set, which contains the elementary building blocks to formulate the model. For this problem, we have:\n",
    "+ function set: the standard arithmetic operators addition (+), subtraction (-), multiplication (*), and division (/).\n",
    "+ terminal set: only the single input 'x' and random numerical constants (RNC).\n",
    "\n",
    "NOTE:\n",
    "\n",
    "- We define a *protected division* to avoid dividing by zero.\n",
    "- Even there may be multiple RNCs in the model, we only need to call `PrimitiveSet.add_rnc` once."
   ]
  },
  {
   "cell_type": "code",
   "execution_count": 4,
   "metadata": {},
   "outputs": [],
   "source": [
    "def protected_pow(x1, x2):\n",
    "    result = np.power(float(abs(x1)),x2)\n",
    "    # try:\n",
    "    #     result = abs(x1)**x2\n",
    "    # except:\n",
    "    #     result = 2**20\n",
    "    # else:\n",
    "    #     result = abs(x1)**x2\n",
    "    return np.min([result, 2**30])\n",
    "\n",
    "def protected_div(x1, x2):\n",
    "    if abs(x2) < 1e-6:\n",
    "        return 1\n",
    "    return x1 / x2\n"
   ]
  },
  {
   "cell_type": "code",
   "execution_count": 5,
   "metadata": {},
   "outputs": [],
   "source": [
    "import operator \n",
    "\n",
    "pset = gep.PrimitiveSet('Main', input_names=['r','tri','dc','ep','ep2','vpm'])\n",
    "pset.add_function(operator.add, 2)\n",
    "pset.add_function(operator.sub, 2)\n",
    "pset.add_function(operator.mul, 2)\n",
    "pset.add_function(protected_div, 2)\n",
    "# pset.add_function(protected_pow, 2)\n",
    "pset.add_rnc_terminal()"
   ]
  },
  {
   "cell_type": "markdown",
   "metadata": {},
   "source": [
    "# Create the individual and population\n",
    "Our objective is to **minimize** the MSE (mean squared error) for data fitting.\n",
    "## Define the indiviudal class, a subclass of *gep.Chromosome*"
   ]
  },
  {
   "cell_type": "code",
   "execution_count": 6,
   "metadata": {},
   "outputs": [],
   "source": [
    "from deap import creator, base, tools\n",
    "\n",
    "creator.create(\"FitnessMin\", base.Fitness, weights=(-1,))  # to minimize the objective (fitness)\n",
    "creator.create(\"Individual\", gep.Chromosome, fitness=creator.FitnessMin)"
   ]
  },
  {
   "cell_type": "markdown",
   "metadata": {},
   "source": [
    "## Register the individual and population creation operations\n",
    "In DEAP, it is recommended to register the operations used in evolution into a *toolbox* to make full use of DEAP functionality. The configuration of individuals in this problem is:\n",
    "+ head length: 6\n",
    "+ number of genes in each chromosome: 2\n",
    "+ RNC array length: 8\n",
    "\n",
    "Generally, more complicated problems require a larger head length and longer chromosomes formed with more genes. **The most important is that we should use the `GeneDc` class for genes to make use of the GEP-RNC algorithm.**"
   ]
  },
  {
   "cell_type": "code",
   "execution_count": 7,
   "metadata": {},
   "outputs": [],
   "source": [
    "h = 6 # head length\n",
    "n_genes = 2   # number of genes in a chromosome\n",
    "r = 8   # length of the RNC array"
   ]
  },
  {
   "cell_type": "code",
   "execution_count": 8,
   "metadata": {},
   "outputs": [],
   "source": [
    "toolbox = gep.Toolbox()\n",
    "toolbox.register('rnc_gen', random.uniform, a=0, b=5)   # each RNC is random within [0, 5]\n",
    "toolbox.register('gene_gen', gep.GeneDc, pset=pset, head_length=h, rnc_gen=toolbox.rnc_gen, rnc_array_length=r)\n",
    "toolbox.register('individual', creator.Individual, gene_gen=toolbox.gene_gen, n_genes=n_genes, linker=operator.add)\n",
    "toolbox.register(\"population\", tools.initRepeat, list, toolbox.individual)\n",
    "\n",
    "# compile utility: which translates an individual into an executable function (Lambda)\n",
    "toolbox.register('compile', gep.compile_, pset=pset)"
   ]
  },
  {
   "cell_type": "code",
   "execution_count": 9,
   "metadata": {},
   "outputs": [],
   "source": [
    "toolbox.register('select', tools.selTournament, tournsize=3)\n",
    "# 1. general operators\n",
    "toolbox.register('mut_uniform', gep.mutate_uniform, pset=pset, ind_pb=0.05, pb=1)\n",
    "toolbox.register('mut_invert', gep.invert, pb=0.1)\n",
    "toolbox.register('mut_is_transpose', gep.is_transpose, pb=0.1)\n",
    "toolbox.register('mut_ris_transpose', gep.ris_transpose, pb=0.1)\n",
    "toolbox.register('mut_gene_transpose', gep.gene_transpose, pb=0.1)\n",
    "toolbox.register('cx_1p', gep.crossover_one_point, pb=0.3)\n",
    "toolbox.register('cx_2p', gep.crossover_two_point, pb=0.2)\n",
    "toolbox.register('cx_gene', gep.crossover_gene, pb=0.1)\n",
    "# 2. Dc-specific operators\n",
    "toolbox.register('mut_dc', gep.mutate_uniform_dc, ind_pb=0.05, pb=1)\n",
    "toolbox.register('mut_invert_dc', gep.invert_dc, pb=0.1)\n",
    "toolbox.register('mut_transpose_dc', gep.transpose_dc, pb=0.1)\n",
    "# for some uniform mutations, we can also assign the ind_pb a string to indicate our expected number of point mutations in an individual\n",
    "toolbox.register('mut_rnc_array_dc', gep.mutate_rnc_array_dc, rnc_gen=toolbox.rnc_gen, ind_pb='0.5p')\n",
    "toolbox.pbs['mut_rnc_array_dc'] = 1  # we can also give the probability via the pbs property"
   ]
  },
  {
   "cell_type": "code",
   "execution_count": 10,
   "metadata": {},
   "outputs": [],
   "source": [
    "stats = tools.Statistics(key=lambda ind: ind.fitness.values[0])\n",
    "stats.register(\"avg\", np.mean)\n",
    "stats.register(\"std\", np.std)\n",
    "stats.register(\"min\", np.min)\n",
    "stats.register(\"max\", np.max)"
   ]
  },
  {
   "cell_type": "markdown",
   "metadata": {},
   "source": [
    "# Define the fitness evaluation function\n",
    "In DEAP, the single objective optimization problem is just a special case of more general multiobjective ones. Since *geppy* is built on top of DEAP, it conforms to this convention. **Even if the fitness only contains one measure, keep in mind that DEAP stores it as an iterable.** \n",
    "\n",
    "Knowing that, you can understand why the evaluation function must return a tuple value (even if it is a 1-tuple). That's also why we set ``weights=(-1,)`` when creating the ``FitnessMax`` class."
   ]
  },
  {
   "cell_type": "code",
   "execution_count": 11,
   "metadata": {},
   "outputs": [],
   "source": [
    "import mpse\n",
    "iteration = 1000 #maximun time iteration\n",
    "evtime = 2\n",
    "# size of population and number of generations\n",
    "n_pop = 100\n",
    "n_gen = 80\n",
    "\n",
    "previous_gen = -1\n",
    "case_list = [None for _ in range(evtime)]\n",
    "\n",
    "def evaluate(individual, gen):\n",
    "    \"\"\"Evalute the fitness of an individual: MAE (mean absolute error)\"\"\"\n",
    "    global previous_gen, case_list\n",
    "    func = toolbox.compile(individual)\n",
    "    func_vec = np.vectorize(func)\n",
    "    itsum = 0\n",
    "    for i in range(evtime):\n",
    "        if gen != previous_gen:\n",
    "            case_list[i] = mpse.gen_case(0.5)\n",
    "            # case_list[i] = mpse.gen_case(gen/n_gen)\n",
    "            # print('new gen')\n",
    "        it = mpse.get_reward(case_list[i],iteration,func_vec)\n",
    "        itsum = itsum + it\n",
    "    previous_gen = gen\n",
    "    # print(itsum)\n",
    "    return itsum/evtime,"
   ]
  },
  {
   "cell_type": "code",
   "execution_count": 12,
   "metadata": {},
   "outputs": [],
   "source": [
    "toolbox.register('evaluate', evaluate)"
   ]
  },
  {
   "cell_type": "code",
   "execution_count": 13,
   "metadata": {
    "tags": []
   },
   "outputs": [
    {
     "output_type": "stream",
     "name": "stdout",
     "text": [
      "gen\tnevals\tavg    \tstd    \tmin \tmax \n",
      "0  \t100   \t1911.71\t20.7266\t1795\t1933\n",
      "1  \t100   \t1905.67\t30.847 \t1788.5\t1926.5\n",
      "2  \t100   \t1878.26\t40.096 \t1761.5\t1920  \n",
      "3  \t100   \t1878.17\t44.8943\t1777.5\t1923  \n",
      "4  \t100   \t1867.77\t42.4342\t1771  \t1915.5\n",
      "5  \t100   \t1847.4 \t49.99  \t1757  \t1919.5\n",
      "6  \t100   \t1844.56\t50.7827\t1774  \t1921  \n",
      "7  \t100   \t1829.13\t53.12  \t1761  \t1910.5\n",
      "8  \t100   \t1843.86\t50.205 \t1780.5\t1914  \n",
      "9  \t100   \t1824.17\t57.4581\t1757.5\t1925  \n",
      "10 \t100   \t1843.9 \t46.625 \t1803.5\t1923.5\n",
      "11 \t100   \t1811.19\t59.4167\t1730.5\t1921.5\n",
      "12 \t100   \t1832.82\t35.6921\t1793  \t1908  \n",
      "13 \t100   \t1829.3 \t51.7603\t1772  \t1915.5\n",
      "14 \t100   \t1782.01\t65.6699\t1724  \t1920  \n",
      "15 \t100   \t1819.23\t38.0234\t1772.5\t1915  \n",
      "16 \t100   \t1800.08\t57.9675\t1755.5\t1904.5\n",
      "17 \t100   \t1800.15\t51.4158\t1763.5\t1910  \n",
      "18 \t100   \t1833.62\t43.9045\t1799  \t1924  \n",
      "19 \t100   \t1833.47\t30.8902\t1806.5\t1891  \n",
      "20 \t100   \t1811.05\t45.8192\t1779  \t1913  \n",
      "21 \t100   \t1826.41\t48.8584\t1783  \t1929.5\n",
      "22 \t100   \t1824.02\t38.6487\t1791.5\t1918.5\n",
      "23 \t100   \t1773.17\t73.2406\t1693.5\t1915  \n",
      "24 \t100   \t1814.32\t51.0492\t1774  \t1931  \n",
      "25 \t100   \t1807.88\t45.6104\t1770  \t1905.5\n",
      "26 \t100   \t1810.36\t50.4774\t1772  \t1916  \n",
      "27 \t100   \t1804.36\t65.3639\t1745.5\t1923  \n",
      "28 \t100   \t1825.55\t54.2068\t1785.5\t1919.5\n",
      "29 \t100   \t1815.98\t45.9166\t1787.5\t1917  \n",
      "30 \t100   \t1817.99\t52.8831\t1783.5\t1924.5\n",
      "31 \t100   \t1784.11\t61.8111\t1737  \t1902  \n",
      "32 \t100   \t1787.69\t67.3893\t1738.5\t1906  \n",
      "33 \t100   \t1822.51\t46.4633\t1777.5\t1916.5\n",
      "34 \t100   \t1840.9 \t36.5289\t1812  \t1917.5\n",
      "35 \t100   \t1804.12\t55.8493\t1767  \t1930  \n",
      "36 \t100   \t1830.84\t55.6612\t1788  \t1929.5\n",
      "37 \t100   \t1829.64\t44.8702\t1791  \t1915  \n",
      "38 \t100   \t1820.06\t45.5549\t1778.5\t1910.5\n",
      "39 \t100   \t1824.05\t36.4744\t1786.5\t1913  \n",
      "40 \t100   \t1838.66\t46.0647\t1797.5\t1924  \n",
      "41 \t100   \t1814.59\t55.4735\t1768.5\t1917  \n",
      "42 \t100   \t1807.67\t45.1564\t1775.5\t1923.5\n",
      "43 \t100   \t1794.79\t57.4765\t1751.5\t1914  \n",
      "44 \t100   \t1849.23\t51.6626\t1806  \t1930.5\n",
      "45 \t100   \t1822.16\t48.7252\t1772.5\t1914  \n",
      "46 \t100   \t1822.59\t42.887 \t1772  \t1917.5\n",
      "47 \t100   \t1819.22\t52.5557\t1731  \t1914.5\n",
      "48 \t100   \t1815.56\t54.8311\t1750  \t1922.5\n",
      "49 \t100   \t1814.13\t45.7562\t1735  \t1929.5\n",
      "50 \t100   \t1849.72\t51.8444\t1782.5\t1922.5\n",
      "51 \t100   \t1843.61\t48.7894\t1795  \t1927  \n",
      "52 \t100   \t1818.91\t43.8327\t1788.5\t1917.5\n",
      "53 \t100   \t1831.57\t58.8916\t1745  \t1914  \n",
      "54 \t100   \t1854.06\t87.3225\t1062.5\t1942  \n",
      "55 \t100   \t1820.45\t57.5342\t1738.5\t1917  \n",
      "56 \t100   \t1837.39\t62.0784\t1762.5\t1929  \n",
      "57 \t100   \t1849.88\t41.6716\t1788.5\t1932.5\n",
      "58 \t100   \t1841.48\t54.4764\t1777.5\t1931  \n",
      "59 \t100   \t1845.05\t48.2698\t1764.5\t1925.5\n",
      "60 \t100   \t1833.58\t56.9004\t1745  \t1923.5\n",
      "61 \t100   \t1837.13\t69.2206\t1742.5\t1930  \n",
      "62 \t100   \t1807.73\t94.8304\t1023  \t1903.5\n",
      "63 \t100   \t1844.66\t88.7933\t1080  \t1931.5\n",
      "64 \t100   \t1837.72\t51.3846\t1756  \t1928  \n",
      "65 \t100   \t1835.74\t44.9153\t1790  \t1930  \n",
      "66 \t100   \t1815.74\t92.849 \t1073.5\t1925  \n",
      "67 \t100   \t1805.69\t53.178 \t1741.5\t1926  \n",
      "68 \t100   \t1796.73\t65.3627\t1734  \t1910  \n",
      "69 \t100   \t1808.77\t54.6876\t1725  \t1910  \n",
      "70 \t100   \t1833.81\t47.0169\t1777.5\t1918.5\n",
      "71 \t100   \t1793.23\t66.5636\t1727.5\t1920.5\n",
      "72 \t100   \t1818.27\t45.6631\t1746.5\t1917  \n",
      "73 \t100   \t1821.42\t46.3353\t1748  \t1906  \n",
      "74 \t100   \t1842.19\t47.2194\t1793  \t1933  \n",
      "75 \t100   \t1791.87\t97.4228\t1081  \t1924  \n",
      "76 \t100   \t1813.56\t73.6896\t1735.5\t1920.5\n",
      "77 \t100   \t1841.48\t56.9853\t1743  \t1929.5\n",
      "78 \t100   \t1846.61\t50.6308\t1786.5\t1930  \n",
      "79 \t100   \t1835.41\t56.1719\t1768  \t1929.5\n",
      "80 \t100   \t1818.15\t64.2376\t1705.5\t1923.5\n"
     ]
    }
   ],
   "source": [
    "pop = toolbox.population(n=n_pop)\n",
    "hof = tools.HallOfFame(10)   # only record the best three individuals ever found in all generations\n",
    "\n",
    "# start evolution\n",
    "pop, log = gep.gep_simple(pop, toolbox, n_generations=n_gen, n_elites=1,\n",
    "                          stats=stats, hall_of_fame=hof, verbose=True)"
   ]
  },
  {
   "cell_type": "markdown",
   "metadata": {},
   "source": [
    "**Let's check the best individuals ever evolved.**"
   ]
  },
  {
   "cell_type": "code",
   "execution_count": 14,
   "metadata": {},
   "outputs": [
    {
     "output_type": "stream",
     "name": "stdout",
     "text": [
      "add(\n\tprotected_div(tri, sub(dc, r)),\n\tmul(sub(protected_div(tri, ep2), protected_div(ep2, dc)), ep2)\n)\n"
     ]
    }
   ],
   "source": [
    "print(hof[0])"
   ]
  },
  {
   "cell_type": "code",
   "execution_count": 15,
   "metadata": {},
   "outputs": [
    {
     "output_type": "stream",
     "name": "stdout",
     "text": [
      "Symplified best individual: \n",
      "tri + tri/(dc - r) - ep2**2/dc\n",
      "-r*tri - 5 + tri/dc\n",
      "ep - r*tri/2 + 2*tri\n",
      "tri*(-5*r + tri*(r + 4))/(r*(r + 4))\n",
      "r*tri*(ep2 + 1)\n",
      "dc*r*tri/ep2**2 + ep2 - ep2*tri/ep\n",
      "dc*r*tri/ep2**2 + tri - ep2*tri/ep\n",
      "dc*r*tri/ep2**2 + tri - ep2*tri/ep\n",
      "tri*(dc*r + ep2**2*(tri + 3))/ep2**2\n",
      "dc*r*tri/ep2**2 + 3*ep2\n"
     ]
    }
   ],
   "source": [
    "print('Symplified best individual: ')\n",
    "# best_ind = hof[0]\n",
    "for i in range(len(hof)):\n",
    "    symplified_best = gep.simplify(hof[i], sym_map)\n",
    "    print(symplified_best)"
   ]
  },
  {
   "cell_type": "markdown",
   "metadata": {},
   "source": [
    "# *[optional]* Post-processing: simplification and visualization\n",
    "## Symbolic simplification of the final solution\n",
    "The original solution seems a little complicated, which may contain many redundancies, for example, `protected_div(x, x)` is just 1. We can perform symbolic simplification of the final result by `geppy.simplify` which depends on `sympy` package."
   ]
  },
  {
   "cell_type": "markdown",
   "metadata": {},
   "source": [
    "As we can see from the above simplified expression, the *truth model* has been successfully found. Due to the existence of Gaussian noise, the minimum mean absolute error （MAE) is still not zero even the best individual represents the true model."
   ]
  },
  {
   "cell_type": "markdown",
   "metadata": {},
   "source": [
    "## Visualization\n",
    "If you are interested in the expression tree corresponding to the individual, i.e., the genotype/phenotype system, *geppy* supports tree visualization by the `graph` and the `export_expression_tree` functions:\n",
    "\n",
    "- `graph` only outputs the nodes and links information to describe the tree topology, with which you can render the tree with tools you like;\n",
    "- `export_expression_tree` implements tree visualization with data generated by `graph` internally using the `graphviz` package. "
   ]
  },
  {
   "cell_type": "code",
   "execution_count": 16,
   "metadata": {},
   "outputs": [],
   "source": [
    "#  # we want use symbol labels instead of words in the tree graph\n",
    "# rename_labels = {'add': '+', 'sub': '-', 'mul': '*', 'protected_div': '/'}  \n",
    "# gep.export_expression_tree(best_ind, rename_labels, 'data/numerical_expression_tree.png')"
   ]
  },
  {
   "cell_type": "code",
   "execution_count": 17,
   "metadata": {},
   "outputs": [],
   "source": [
    "# # show the above image here for convenience\n",
    "# from IPython.display import Image\n",
    "# Image(filename='data/numerical_expression_tree.png') "
   ]
  },
  {
   "cell_type": "markdown",
   "metadata": {},
   "source": [
    "# Discussion\n",
    "If only integer constants are involved, then the GEP-RNC algorithm is very effective. If the constants are general real numbers, then more advanced techniques like local search may be more suitable.\n",
    "\n",
    "Alternatively, the ephemeral numerical constant (ENC) based method can also be adopted here. Please check [ENC for numerical expression inference](./numerical_expression_inference-ENC.ipynb).\n"
   ]
  }
 ],
 "metadata": {
  "kernelspec": {
   "name": "python3",
   "display_name": "Python 3.8.3 64-bit ('base': conda)",
   "metadata": {
    "interpreter": {
     "hash": "5110be81f097a33e51a63f2d799b4ae23e1ad3b8a3fd16682dfe1d86f378e7c1"
    }
   }
  },
  "language_info": {
   "codemirror_mode": {
    "name": "ipython",
    "version": 3
   },
   "file_extension": ".py",
   "mimetype": "text/x-python",
   "name": "python",
   "nbconvert_exporter": "python",
   "pygments_lexer": "ipython3",
   "version": "3.8.3-final"
  }
 },
 "nbformat": 4,
 "nbformat_minor": 2
}